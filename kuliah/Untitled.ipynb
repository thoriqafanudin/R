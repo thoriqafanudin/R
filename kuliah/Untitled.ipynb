{
 "cells": [
  {
   "cell_type": "code",
   "execution_count": 14,
   "id": "a90a9ac9",
   "metadata": {},
   "outputs": [
    {
     "name": "stdout",
     "output_type": "stream",
     "text": [
      "[[ 1  2  1 -3]\n",
      " [ 3  3 -2  2]\n",
      " [ 2 -1 -3  1]\n",
      " [ 4  4 -1 -1]]\n",
      "\n",
      "[[-1.6  -1.4  -0.2   1.8 ]\n",
      " [ 1.    1.   -0.   -1.  ]\n",
      " [-1.65 -1.35 -0.55  1.7 ]\n",
      " [-0.75 -0.25 -0.25  0.5 ]]\n",
      "\n",
      "[[ 1.00000000e+00  8.88178420e-16 -2.22044605e-16  8.88178420e-16]\n",
      " [ 0.00000000e+00  1.00000000e+00  0.00000000e+00  0.00000000e+00]\n",
      " [-8.88178420e-16 -8.88178420e-16  1.00000000e+00 -8.88178420e-16]\n",
      " [ 0.00000000e+00  0.00000000e+00  1.11022302e-16  1.00000000e+00]]\n",
      "\n",
      "[[-16]\n",
      " [  7]\n",
      " [ -1]\n",
      " [ -7]]\n",
      "\n",
      "[[ 3.4]\n",
      " [-2. ]\n",
      " [ 5.6]\n",
      " [ 7. ]]\n"
     ]
    }
   ],
   "source": [
    "import numpy as np\n",
    "A = np.array([[1, 2, 1, -3],\n",
    "             [3, 3, -2, 2],\n",
    "             [2, -1, -3, 1],\n",
    "             [4, 4, -1, -1]])\n",
    "\n",
    "B = np.linalg.inv(A)\n",
    "C = np.dot(B, A)\n",
    "\n",
    "D = np.array([[-16], [7], [-1], [-7]])\n",
    "\n",
    "E = np.dot(B, D)\n",
    "\n",
    "print(f\"{A}\\n\\n{B}\\n\\n{C}\\n\\n{D}\\n\\n{E}\")"
   ]
  }
 ],
 "metadata": {
  "kernelspec": {
   "display_name": "Python 3 (ipykernel)",
   "language": "python",
   "name": "python3"
  },
  "language_info": {
   "codemirror_mode": {
    "name": "ipython",
    "version": 3
   },
   "file_extension": ".py",
   "mimetype": "text/x-python",
   "name": "python",
   "nbconvert_exporter": "python",
   "pygments_lexer": "ipython3",
   "version": "3.9.13"
  }
 },
 "nbformat": 4,
 "nbformat_minor": 5
}
